{
 "cells": [
  {
   "cell_type": "code",
   "execution_count": 131,
   "id": "8cb3c1f5",
   "metadata": {},
   "outputs": [],
   "source": [
    "import pandas as pd\n",
    "import numpy as np\n",
    "\n",
    "pd.set_option('mode.chained_assignment', None)"
   ]
  },
  {
   "cell_type": "code",
   "execution_count": 316,
   "id": "06a3d150",
   "metadata": {},
   "outputs": [
    {
     "data": {
      "text/html": [
       "<div>\n",
       "<style scoped>\n",
       "    .dataframe tbody tr th:only-of-type {\n",
       "        vertical-align: middle;\n",
       "    }\n",
       "\n",
       "    .dataframe tbody tr th {\n",
       "        vertical-align: top;\n",
       "    }\n",
       "\n",
       "    .dataframe thead th {\n",
       "        text-align: right;\n",
       "    }\n",
       "</style>\n",
       "<table border=\"1\" class=\"dataframe\">\n",
       "  <thead>\n",
       "    <tr style=\"text-align: right;\">\n",
       "      <th></th>\n",
       "      <th>name</th>\n",
       "      <th>year</th>\n",
       "      <th>revenue</th>\n",
       "      <th>employee</th>\n",
       "      <th>sector</th>\n",
       "      <th>job_title</th>\n",
       "      <th>location</th>\n",
       "      <th>salary_est</th>\n",
       "    </tr>\n",
       "  </thead>\n",
       "  <tbody>\n",
       "    <tr>\n",
       "      <th>0</th>\n",
       "      <td>Skillquotient</td>\n",
       "      <td>2016.0</td>\n",
       "      <td>$25 to $100 million (USD)</td>\n",
       "      <td>501 to 1000 Employees</td>\n",
       "      <td>Information Technology</td>\n",
       "      <td>Artificial Intelligence- Data Science</td>\n",
       "      <td>Remote</td>\n",
       "      <td>$76K - $179K (Employer est.)</td>\n",
       "    </tr>\n",
       "    <tr>\n",
       "      <th>1</th>\n",
       "      <td>Sephora USA</td>\n",
       "      <td>1969.0</td>\n",
       "      <td>$1 to $5 billion (USD)</td>\n",
       "      <td>10000+ Employees</td>\n",
       "      <td>Retail &amp; Wholesale</td>\n",
       "      <td>Manager, Data Science Analytics</td>\n",
       "      <td>Remote</td>\n",
       "      <td>$180K - $181K (Employer est.)</td>\n",
       "    </tr>\n",
       "    <tr>\n",
       "      <th>2</th>\n",
       "      <td>Norwin</td>\n",
       "      <td>NaN</td>\n",
       "      <td>Unknown / Non-Applicable</td>\n",
       "      <td>1 to 50 Employees</td>\n",
       "      <td>Manufacturing</td>\n",
       "      <td>Data Engineer</td>\n",
       "      <td>South San Francisco, CA</td>\n",
       "      <td>$90.00 Per Hour(Employer est.)</td>\n",
       "    </tr>\n",
       "    <tr>\n",
       "      <th>3</th>\n",
       "      <td>Electric Power Research Institute</td>\n",
       "      <td>1973.0</td>\n",
       "      <td>$100 to $500 million (USD)</td>\n",
       "      <td>501 to 1000 Employees</td>\n",
       "      <td>Management &amp; Consulting</td>\n",
       "      <td>Digital Transformation/Data Science Student Employee</td>\n",
       "      <td>Remote</td>\n",
       "      <td>NaN</td>\n",
       "    </tr>\n",
       "    <tr>\n",
       "      <th>4</th>\n",
       "      <td>REVOLVE</td>\n",
       "      <td>2003.0</td>\n",
       "      <td>$500 million to $1 billion (USD)</td>\n",
       "      <td>1001 to 5000 Employees</td>\n",
       "      <td>Retail &amp; Wholesale</td>\n",
       "      <td>Data Science Analyst</td>\n",
       "      <td>Cerritos, CA</td>\n",
       "      <td>$90K (Employer est.)</td>\n",
       "    </tr>\n",
       "  </tbody>\n",
       "</table>\n",
       "</div>"
      ],
      "text/plain": [
       "                                name    year  \\\n",
       "0  Skillquotient                      2016.0   \n",
       "1  Sephora USA                        1969.0   \n",
       "2  Norwin                            NaN       \n",
       "3  Electric Power Research Institute  1973.0   \n",
       "4  REVOLVE                            2003.0   \n",
       "\n",
       "                            revenue                employee  \\\n",
       "0  $25 to $100 million (USD)         501 to 1000 Employees    \n",
       "1  $1 to $5 billion (USD)            10000+ Employees         \n",
       "2  Unknown / Non-Applicable          1 to 50 Employees        \n",
       "3  $100 to $500 million (USD)        501 to 1000 Employees    \n",
       "4  $500 million to $1 billion (USD)  1001 to 5000 Employees   \n",
       "\n",
       "                    sector  \\\n",
       "0  Information Technology    \n",
       "1  Retail & Wholesale        \n",
       "2  Manufacturing             \n",
       "3  Management & Consulting   \n",
       "4  Retail & Wholesale        \n",
       "\n",
       "                                              job_title  \\\n",
       "0  Artificial Intelligence- Data Science                  \n",
       "1  Manager, Data Science Analytics                        \n",
       "2  Data Engineer                                          \n",
       "3  Digital Transformation/Data Science Student Employee   \n",
       "4  Data Science Analyst                                   \n",
       "\n",
       "                  location                      salary_est  \n",
       "0  Remote                   $76K - $179K (Employer est.)    \n",
       "1  Remote                   $180K - $181K (Employer est.)   \n",
       "2  South San Francisco, CA  $90.00 Per Hour(Employer est.)  \n",
       "3  Remote                   NaN                             \n",
       "4  Cerritos, CA             $90K (Employer est.)            "
      ]
     },
     "execution_count": 316,
     "metadata": {},
     "output_type": "execute_result"
    }
   ],
   "source": [
    "df = pd.read_csv('ds_salary_2023.csv')\n",
    "df.head()"
   ]
  },
  {
   "cell_type": "code",
   "execution_count": 317,
   "id": "52d6c747",
   "metadata": {},
   "outputs": [
    {
     "data": {
      "text/plain": [
       "(900, 8)"
      ]
     },
     "execution_count": 317,
     "metadata": {},
     "output_type": "execute_result"
    }
   ],
   "source": [
    "df.shape"
   ]
  },
  {
   "cell_type": "code",
   "execution_count": 318,
   "id": "95d52c65",
   "metadata": {},
   "outputs": [
    {
     "name": "stdout",
     "output_type": "stream",
     "text": [
      "<class 'pandas.core.frame.DataFrame'>\n",
      "RangeIndex: 900 entries, 0 to 899\n",
      "Data columns (total 8 columns):\n",
      " #   Column      Non-Null Count  Dtype  \n",
      "---  ------      --------------  -----  \n",
      " 0   name        900 non-null    object \n",
      " 1   year        830 non-null    float64\n",
      " 2   revenue     887 non-null    object \n",
      " 3   employee    887 non-null    object \n",
      " 4   sector      853 non-null    object \n",
      " 5   job_title   900 non-null    object \n",
      " 6   location    900 non-null    object \n",
      " 7   salary_est  671 non-null    object \n",
      "dtypes: float64(1), object(7)\n",
      "memory usage: 56.4+ KB\n"
     ]
    }
   ],
   "source": [
    "df.info()"
   ]
  },
  {
   "cell_type": "markdown",
   "id": "c0857151",
   "metadata": {},
   "source": [
    "#### Drop nan values"
   ]
  },
  {
   "cell_type": "code",
   "execution_count": 319,
   "id": "3e09289e",
   "metadata": {},
   "outputs": [],
   "source": [
    "df1 = df.dropna(axis=0)"
   ]
  },
  {
   "cell_type": "code",
   "execution_count": 320,
   "id": "04c87a7e",
   "metadata": {},
   "outputs": [
    {
     "data": {
      "text/plain": [
       "(602, 8)"
      ]
     },
     "execution_count": 320,
     "metadata": {},
     "output_type": "execute_result"
    }
   ],
   "source": [
    "df1.shape"
   ]
  },
  {
   "cell_type": "code",
   "execution_count": 321,
   "id": "55a1271b",
   "metadata": {},
   "outputs": [
    {
     "data": {
      "text/html": [
       "<div>\n",
       "<style scoped>\n",
       "    .dataframe tbody tr th:only-of-type {\n",
       "        vertical-align: middle;\n",
       "    }\n",
       "\n",
       "    .dataframe tbody tr th {\n",
       "        vertical-align: top;\n",
       "    }\n",
       "\n",
       "    .dataframe thead th {\n",
       "        text-align: right;\n",
       "    }\n",
       "</style>\n",
       "<table border=\"1\" class=\"dataframe\">\n",
       "  <thead>\n",
       "    <tr style=\"text-align: right;\">\n",
       "      <th></th>\n",
       "      <th>name</th>\n",
       "      <th>year</th>\n",
       "      <th>revenue</th>\n",
       "      <th>employee</th>\n",
       "      <th>sector</th>\n",
       "      <th>job_title</th>\n",
       "      <th>location</th>\n",
       "      <th>salary_est</th>\n",
       "    </tr>\n",
       "  </thead>\n",
       "  <tbody>\n",
       "    <tr>\n",
       "      <th>0</th>\n",
       "      <td>Skillquotient</td>\n",
       "      <td>2016.0</td>\n",
       "      <td>$25 to $100 million (USD)</td>\n",
       "      <td>501 to 1000 Employees</td>\n",
       "      <td>Information Technology</td>\n",
       "      <td>Artificial Intelligence- Data Science</td>\n",
       "      <td>Remote</td>\n",
       "      <td>$76K - $179K (Employer est.)</td>\n",
       "    </tr>\n",
       "    <tr>\n",
       "      <th>1</th>\n",
       "      <td>Sephora USA</td>\n",
       "      <td>1969.0</td>\n",
       "      <td>$1 to $5 billion (USD)</td>\n",
       "      <td>10000+ Employees</td>\n",
       "      <td>Retail &amp; Wholesale</td>\n",
       "      <td>Manager, Data Science Analytics</td>\n",
       "      <td>Remote</td>\n",
       "      <td>$180K - $181K (Employer est.)</td>\n",
       "    </tr>\n",
       "    <tr>\n",
       "      <th>4</th>\n",
       "      <td>REVOLVE</td>\n",
       "      <td>2003.0</td>\n",
       "      <td>$500 million to $1 billion (USD)</td>\n",
       "      <td>1001 to 5000 Employees</td>\n",
       "      <td>Retail &amp; Wholesale</td>\n",
       "      <td>Data Science Analyst</td>\n",
       "      <td>Cerritos, CA</td>\n",
       "      <td>$90K (Employer est.)</td>\n",
       "    </tr>\n",
       "    <tr>\n",
       "      <th>6</th>\n",
       "      <td>Costco Wholesale</td>\n",
       "      <td>1976.0</td>\n",
       "      <td>Unknown / Non-Applicable</td>\n",
       "      <td>10000+ Employees</td>\n",
       "      <td>Retail &amp; Wholesale</td>\n",
       "      <td>Data Engineer - Data Science &amp; Analytics</td>\n",
       "      <td>Seattle, WA</td>\n",
       "      <td>$100K - $135K (Employer est.)</td>\n",
       "    </tr>\n",
       "    <tr>\n",
       "      <th>7</th>\n",
       "      <td>Anblicks</td>\n",
       "      <td>2004.0</td>\n",
       "      <td>$5 to $25 million (USD)</td>\n",
       "      <td>201 to 500 Employees</td>\n",
       "      <td>Information Technology</td>\n",
       "      <td>Data Science (AI/ML)</td>\n",
       "      <td>Dallas, TX</td>\n",
       "      <td>$57K - $90K (Glassdoor est.)</td>\n",
       "    </tr>\n",
       "  </tbody>\n",
       "</table>\n",
       "</div>"
      ],
      "text/plain": [
       "               name    year                           revenue  \\\n",
       "0  Skillquotient     2016.0  $25 to $100 million (USD)          \n",
       "1  Sephora USA       1969.0  $1 to $5 billion (USD)             \n",
       "4  REVOLVE           2003.0  $500 million to $1 billion (USD)   \n",
       "6  Costco Wholesale  1976.0  Unknown / Non-Applicable           \n",
       "7  Anblicks          2004.0  $5 to $25 million (USD)            \n",
       "\n",
       "                 employee                  sector  \\\n",
       "0  501 to 1000 Employees   Information Technology   \n",
       "1  10000+ Employees        Retail & Wholesale       \n",
       "4  1001 to 5000 Employees  Retail & Wholesale       \n",
       "6  10000+ Employees        Retail & Wholesale       \n",
       "7  201 to 500 Employees    Information Technology   \n",
       "\n",
       "                                  job_title      location  \\\n",
       "0  Artificial Intelligence- Data Science     Remote         \n",
       "1  Manager, Data Science Analytics           Remote         \n",
       "4  Data Science Analyst                      Cerritos, CA   \n",
       "6  Data Engineer - Data Science & Analytics  Seattle, WA    \n",
       "7  Data Science (AI/ML)                      Dallas, TX     \n",
       "\n",
       "                      salary_est  \n",
       "0  $76K - $179K (Employer est.)   \n",
       "1  $180K - $181K (Employer est.)  \n",
       "4  $90K (Employer est.)           \n",
       "6  $100K - $135K (Employer est.)  \n",
       "7  $57K - $90K (Glassdoor est.)   "
      ]
     },
     "execution_count": 321,
     "metadata": {},
     "output_type": "execute_result"
    }
   ],
   "source": [
    "df1.head()"
   ]
  },
  {
   "cell_type": "code",
   "execution_count": 322,
   "id": "b2c5a621",
   "metadata": {},
   "outputs": [],
   "source": [
    "df1.reset_index(inplace=True)"
   ]
  },
  {
   "cell_type": "code",
   "execution_count": 323,
   "id": "a50f6e0d",
   "metadata": {},
   "outputs": [
    {
     "data": {
      "text/html": [
       "<div>\n",
       "<style scoped>\n",
       "    .dataframe tbody tr th:only-of-type {\n",
       "        vertical-align: middle;\n",
       "    }\n",
       "\n",
       "    .dataframe tbody tr th {\n",
       "        vertical-align: top;\n",
       "    }\n",
       "\n",
       "    .dataframe thead th {\n",
       "        text-align: right;\n",
       "    }\n",
       "</style>\n",
       "<table border=\"1\" class=\"dataframe\">\n",
       "  <thead>\n",
       "    <tr style=\"text-align: right;\">\n",
       "      <th></th>\n",
       "      <th>name</th>\n",
       "      <th>year</th>\n",
       "      <th>revenue</th>\n",
       "      <th>employee</th>\n",
       "      <th>sector</th>\n",
       "      <th>job_title</th>\n",
       "      <th>location</th>\n",
       "      <th>salary_est</th>\n",
       "    </tr>\n",
       "  </thead>\n",
       "  <tbody>\n",
       "    <tr>\n",
       "      <th>0</th>\n",
       "      <td>Skillquotient</td>\n",
       "      <td>2016.0</td>\n",
       "      <td>$25 to $100 million (USD)</td>\n",
       "      <td>501 to 1000 Employees</td>\n",
       "      <td>Information Technology</td>\n",
       "      <td>Artificial Intelligence- Data Science</td>\n",
       "      <td>Remote</td>\n",
       "      <td>$76K - $179K (Employer est.)</td>\n",
       "    </tr>\n",
       "    <tr>\n",
       "      <th>1</th>\n",
       "      <td>Sephora USA</td>\n",
       "      <td>1969.0</td>\n",
       "      <td>$1 to $5 billion (USD)</td>\n",
       "      <td>10000+ Employees</td>\n",
       "      <td>Retail &amp; Wholesale</td>\n",
       "      <td>Manager, Data Science Analytics</td>\n",
       "      <td>Remote</td>\n",
       "      <td>$180K - $181K (Employer est.)</td>\n",
       "    </tr>\n",
       "    <tr>\n",
       "      <th>2</th>\n",
       "      <td>REVOLVE</td>\n",
       "      <td>2003.0</td>\n",
       "      <td>$500 million to $1 billion (USD)</td>\n",
       "      <td>1001 to 5000 Employees</td>\n",
       "      <td>Retail &amp; Wholesale</td>\n",
       "      <td>Data Science Analyst</td>\n",
       "      <td>Cerritos, CA</td>\n",
       "      <td>$90K (Employer est.)</td>\n",
       "    </tr>\n",
       "    <tr>\n",
       "      <th>3</th>\n",
       "      <td>Costco Wholesale</td>\n",
       "      <td>1976.0</td>\n",
       "      <td>Unknown / Non-Applicable</td>\n",
       "      <td>10000+ Employees</td>\n",
       "      <td>Retail &amp; Wholesale</td>\n",
       "      <td>Data Engineer - Data Science &amp; Analytics</td>\n",
       "      <td>Seattle, WA</td>\n",
       "      <td>$100K - $135K (Employer est.)</td>\n",
       "    </tr>\n",
       "    <tr>\n",
       "      <th>4</th>\n",
       "      <td>Anblicks</td>\n",
       "      <td>2004.0</td>\n",
       "      <td>$5 to $25 million (USD)</td>\n",
       "      <td>201 to 500 Employees</td>\n",
       "      <td>Information Technology</td>\n",
       "      <td>Data Science (AI/ML)</td>\n",
       "      <td>Dallas, TX</td>\n",
       "      <td>$57K - $90K (Glassdoor est.)</td>\n",
       "    </tr>\n",
       "  </tbody>\n",
       "</table>\n",
       "</div>"
      ],
      "text/plain": [
       "               name    year                           revenue  \\\n",
       "0  Skillquotient     2016.0  $25 to $100 million (USD)          \n",
       "1  Sephora USA       1969.0  $1 to $5 billion (USD)             \n",
       "2  REVOLVE           2003.0  $500 million to $1 billion (USD)   \n",
       "3  Costco Wholesale  1976.0  Unknown / Non-Applicable           \n",
       "4  Anblicks          2004.0  $5 to $25 million (USD)            \n",
       "\n",
       "                 employee                  sector  \\\n",
       "0  501 to 1000 Employees   Information Technology   \n",
       "1  10000+ Employees        Retail & Wholesale       \n",
       "2  1001 to 5000 Employees  Retail & Wholesale       \n",
       "3  10000+ Employees        Retail & Wholesale       \n",
       "4  201 to 500 Employees    Information Technology   \n",
       "\n",
       "                                  job_title      location  \\\n",
       "0  Artificial Intelligence- Data Science     Remote         \n",
       "1  Manager, Data Science Analytics           Remote         \n",
       "2  Data Science Analyst                      Cerritos, CA   \n",
       "3  Data Engineer - Data Science & Analytics  Seattle, WA    \n",
       "4  Data Science (AI/ML)                      Dallas, TX     \n",
       "\n",
       "                      salary_est  \n",
       "0  $76K - $179K (Employer est.)   \n",
       "1  $180K - $181K (Employer est.)  \n",
       "2  $90K (Employer est.)           \n",
       "3  $100K - $135K (Employer est.)  \n",
       "4  $57K - $90K (Glassdoor est.)   "
      ]
     },
     "execution_count": 323,
     "metadata": {},
     "output_type": "execute_result"
    }
   ],
   "source": [
    "df1.drop('index', axis=1, inplace=True)\n",
    "df1.head()"
   ]
  },
  {
   "cell_type": "code",
   "execution_count": 324,
   "id": "88fe797b",
   "metadata": {},
   "outputs": [
    {
     "data": {
      "text/plain": [
       "(602, 8)"
      ]
     },
     "execution_count": 324,
     "metadata": {},
     "output_type": "execute_result"
    }
   ],
   "source": [
    "df1.shape"
   ]
  },
  {
   "cell_type": "markdown",
   "id": "9ddab186",
   "metadata": {},
   "source": [
    "#### Add age of company"
   ]
  },
  {
   "cell_type": "code",
   "execution_count": 325,
   "id": "7e8ee936",
   "metadata": {},
   "outputs": [],
   "source": [
    "df1['year'] = df1['year'].astype('int')"
   ]
  },
  {
   "cell_type": "code",
   "execution_count": 326,
   "id": "6bae81b6",
   "metadata": {},
   "outputs": [],
   "source": [
    "df1['age'] = 2023 - df1['year']"
   ]
  },
  {
   "cell_type": "code",
   "execution_count": 327,
   "id": "e7bfe8ff",
   "metadata": {},
   "outputs": [
    {
     "data": {
      "text/html": [
       "<div>\n",
       "<style scoped>\n",
       "    .dataframe tbody tr th:only-of-type {\n",
       "        vertical-align: middle;\n",
       "    }\n",
       "\n",
       "    .dataframe tbody tr th {\n",
       "        vertical-align: top;\n",
       "    }\n",
       "\n",
       "    .dataframe thead th {\n",
       "        text-align: right;\n",
       "    }\n",
       "</style>\n",
       "<table border=\"1\" class=\"dataframe\">\n",
       "  <thead>\n",
       "    <tr style=\"text-align: right;\">\n",
       "      <th></th>\n",
       "      <th>name</th>\n",
       "      <th>year</th>\n",
       "      <th>revenue</th>\n",
       "      <th>employee</th>\n",
       "      <th>sector</th>\n",
       "      <th>job_title</th>\n",
       "      <th>location</th>\n",
       "      <th>salary_est</th>\n",
       "      <th>age</th>\n",
       "    </tr>\n",
       "  </thead>\n",
       "  <tbody>\n",
       "    <tr>\n",
       "      <th>0</th>\n",
       "      <td>Skillquotient</td>\n",
       "      <td>2016</td>\n",
       "      <td>$25 to $100 million (USD)</td>\n",
       "      <td>501 to 1000 Employees</td>\n",
       "      <td>Information Technology</td>\n",
       "      <td>Artificial Intelligence- Data Science</td>\n",
       "      <td>Remote</td>\n",
       "      <td>$76K - $179K (Employer est.)</td>\n",
       "      <td>7</td>\n",
       "    </tr>\n",
       "    <tr>\n",
       "      <th>1</th>\n",
       "      <td>Sephora USA</td>\n",
       "      <td>1969</td>\n",
       "      <td>$1 to $5 billion (USD)</td>\n",
       "      <td>10000+ Employees</td>\n",
       "      <td>Retail &amp; Wholesale</td>\n",
       "      <td>Manager, Data Science Analytics</td>\n",
       "      <td>Remote</td>\n",
       "      <td>$180K - $181K (Employer est.)</td>\n",
       "      <td>54</td>\n",
       "    </tr>\n",
       "    <tr>\n",
       "      <th>2</th>\n",
       "      <td>REVOLVE</td>\n",
       "      <td>2003</td>\n",
       "      <td>$500 million to $1 billion (USD)</td>\n",
       "      <td>1001 to 5000 Employees</td>\n",
       "      <td>Retail &amp; Wholesale</td>\n",
       "      <td>Data Science Analyst</td>\n",
       "      <td>Cerritos, CA</td>\n",
       "      <td>$90K (Employer est.)</td>\n",
       "      <td>20</td>\n",
       "    </tr>\n",
       "    <tr>\n",
       "      <th>3</th>\n",
       "      <td>Costco Wholesale</td>\n",
       "      <td>1976</td>\n",
       "      <td>Unknown / Non-Applicable</td>\n",
       "      <td>10000+ Employees</td>\n",
       "      <td>Retail &amp; Wholesale</td>\n",
       "      <td>Data Engineer - Data Science &amp; Analytics</td>\n",
       "      <td>Seattle, WA</td>\n",
       "      <td>$100K - $135K (Employer est.)</td>\n",
       "      <td>47</td>\n",
       "    </tr>\n",
       "    <tr>\n",
       "      <th>4</th>\n",
       "      <td>Anblicks</td>\n",
       "      <td>2004</td>\n",
       "      <td>$5 to $25 million (USD)</td>\n",
       "      <td>201 to 500 Employees</td>\n",
       "      <td>Information Technology</td>\n",
       "      <td>Data Science (AI/ML)</td>\n",
       "      <td>Dallas, TX</td>\n",
       "      <td>$57K - $90K (Glassdoor est.)</td>\n",
       "      <td>19</td>\n",
       "    </tr>\n",
       "  </tbody>\n",
       "</table>\n",
       "</div>"
      ],
      "text/plain": [
       "               name  year                           revenue  \\\n",
       "0  Skillquotient     2016  $25 to $100 million (USD)          \n",
       "1  Sephora USA       1969  $1 to $5 billion (USD)             \n",
       "2  REVOLVE           2003  $500 million to $1 billion (USD)   \n",
       "3  Costco Wholesale  1976  Unknown / Non-Applicable           \n",
       "4  Anblicks          2004  $5 to $25 million (USD)            \n",
       "\n",
       "                 employee                  sector  \\\n",
       "0  501 to 1000 Employees   Information Technology   \n",
       "1  10000+ Employees        Retail & Wholesale       \n",
       "2  1001 to 5000 Employees  Retail & Wholesale       \n",
       "3  10000+ Employees        Retail & Wholesale       \n",
       "4  201 to 500 Employees    Information Technology   \n",
       "\n",
       "                                  job_title      location  \\\n",
       "0  Artificial Intelligence- Data Science     Remote         \n",
       "1  Manager, Data Science Analytics           Remote         \n",
       "2  Data Science Analyst                      Cerritos, CA   \n",
       "3  Data Engineer - Data Science & Analytics  Seattle, WA    \n",
       "4  Data Science (AI/ML)                      Dallas, TX     \n",
       "\n",
       "                      salary_est  age  \n",
       "0  $76K - $179K (Employer est.)   7    \n",
       "1  $180K - $181K (Employer est.)  54   \n",
       "2  $90K (Employer est.)           20   \n",
       "3  $100K - $135K (Employer est.)  47   \n",
       "4  $57K - $90K (Glassdoor est.)   19   "
      ]
     },
     "execution_count": 327,
     "metadata": {},
     "output_type": "execute_result"
    }
   ],
   "source": [
    "df1.head()"
   ]
  },
  {
   "cell_type": "markdown",
   "id": "fa274854",
   "metadata": {},
   "source": [
    "#### 'salary_set' column"
   ]
  },
  {
   "cell_type": "code",
   "execution_count": 328,
   "id": "f9f9c572",
   "metadata": {},
   "outputs": [],
   "source": [
    "pd.set_option('display.max_rows', None)\n",
    "df1['salary_est'] = df1['salary_est'].apply(lambda x: x.split('(')[0])"
   ]
  },
  {
   "cell_type": "code",
   "execution_count": 329,
   "id": "e817281b",
   "metadata": {},
   "outputs": [],
   "source": [
    "df1['salary_est'] = df1['salary_est'].apply(lambda x: 0 if 'Per Hour' in x  else x.lower())"
   ]
  },
  {
   "cell_type": "code",
   "execution_count": 330,
   "id": "420e3550",
   "metadata": {},
   "outputs": [],
   "source": [
    "df1.drop(df1[df1.salary_est == 0].index, axis=0, inplace= True)"
   ]
  },
  {
   "cell_type": "code",
   "execution_count": 331,
   "id": "daf83f11",
   "metadata": {},
   "outputs": [
    {
     "data": {
      "text/plain": [
       "(584, 9)"
      ]
     },
     "execution_count": 331,
     "metadata": {},
     "output_type": "execute_result"
    }
   ],
   "source": [
    "df1.shape"
   ]
  },
  {
   "cell_type": "code",
   "execution_count": 332,
   "id": "f2b92743",
   "metadata": {},
   "outputs": [],
   "source": [
    "df1['min_salary'] = df1['salary_est'].apply(lambda x: int(x.split('-')[0].replace('k', '').replace('$', '')))"
   ]
  },
  {
   "cell_type": "code",
   "execution_count": 336,
   "id": "70ca2c3b",
   "metadata": {},
   "outputs": [],
   "source": [
    "def apply_max_salary(x):\n",
    "    try: \n",
    "        x_new = x.split('-')[1].replace('k', '').replace('$', '')\n",
    "        return int(x_new)\n",
    "    except IndexError:\n",
    "        return int(x.replace('k', '').replace('$', ''))\n",
    "    \n",
    "def location(x):\n",
    "    try:  \n",
    "        return x.split(',')[1]\n",
    "    except IndexError:\n",
    "        return 'Remote'"
   ]
  },
  {
   "cell_type": "code",
   "execution_count": 337,
   "id": "218ffd9f",
   "metadata": {},
   "outputs": [],
   "source": [
    "df1['max_salary'] = df1['salary_est'].apply(apply_max_salary)"
   ]
  },
  {
   "cell_type": "code",
   "execution_count": 338,
   "id": "b845f9ad",
   "metadata": {},
   "outputs": [],
   "source": [
    "df1['avg_salary'] = (df1['max_salary'] + df1['min_salary']) / 2"
   ]
  },
  {
   "cell_type": "markdown",
   "id": "a4c85f5f",
   "metadata": {},
   "source": [
    "#### 'location' column"
   ]
  },
  {
   "cell_type": "code",
   "execution_count": 339,
   "id": "01029b54",
   "metadata": {},
   "outputs": [],
   "source": [
    "df1['location'] = df['location'].apply(location)"
   ]
  },
  {
   "cell_type": "code",
   "execution_count": 340,
   "id": "312af4e5",
   "metadata": {
    "scrolled": true
   },
   "outputs": [
    {
     "data": {
      "text/html": [
       "<div>\n",
       "<style scoped>\n",
       "    .dataframe tbody tr th:only-of-type {\n",
       "        vertical-align: middle;\n",
       "    }\n",
       "\n",
       "    .dataframe tbody tr th {\n",
       "        vertical-align: top;\n",
       "    }\n",
       "\n",
       "    .dataframe thead th {\n",
       "        text-align: right;\n",
       "    }\n",
       "</style>\n",
       "<table border=\"1\" class=\"dataframe\">\n",
       "  <thead>\n",
       "    <tr style=\"text-align: right;\">\n",
       "      <th></th>\n",
       "      <th>name</th>\n",
       "      <th>year</th>\n",
       "      <th>revenue</th>\n",
       "      <th>employee</th>\n",
       "      <th>sector</th>\n",
       "      <th>job_title</th>\n",
       "      <th>location</th>\n",
       "      <th>salary_est</th>\n",
       "      <th>age</th>\n",
       "      <th>min_salary</th>\n",
       "      <th>max_salary</th>\n",
       "      <th>avg_salary</th>\n",
       "    </tr>\n",
       "  </thead>\n",
       "  <tbody>\n",
       "    <tr>\n",
       "      <th>0</th>\n",
       "      <td>Skillquotient</td>\n",
       "      <td>2016</td>\n",
       "      <td>$25 to $100 million (USD)</td>\n",
       "      <td>501 to 1000 Employees</td>\n",
       "      <td>Information Technology</td>\n",
       "      <td>Artificial Intelligence- Data Science</td>\n",
       "      <td>Remote</td>\n",
       "      <td>$76k - $179k</td>\n",
       "      <td>7</td>\n",
       "      <td>76</td>\n",
       "      <td>179</td>\n",
       "      <td>127.5</td>\n",
       "    </tr>\n",
       "    <tr>\n",
       "      <th>1</th>\n",
       "      <td>Sephora USA</td>\n",
       "      <td>1969</td>\n",
       "      <td>$1 to $5 billion (USD)</td>\n",
       "      <td>10000+ Employees</td>\n",
       "      <td>Retail &amp; Wholesale</td>\n",
       "      <td>Manager, Data Science Analytics</td>\n",
       "      <td>Remote</td>\n",
       "      <td>$180k - $181k</td>\n",
       "      <td>54</td>\n",
       "      <td>180</td>\n",
       "      <td>181</td>\n",
       "      <td>180.5</td>\n",
       "    </tr>\n",
       "    <tr>\n",
       "      <th>2</th>\n",
       "      <td>REVOLVE</td>\n",
       "      <td>2003</td>\n",
       "      <td>$500 million to $1 billion (USD)</td>\n",
       "      <td>1001 to 5000 Employees</td>\n",
       "      <td>Retail &amp; Wholesale</td>\n",
       "      <td>Data Science Analyst</td>\n",
       "      <td>CA</td>\n",
       "      <td>$90k</td>\n",
       "      <td>20</td>\n",
       "      <td>90</td>\n",
       "      <td>90</td>\n",
       "      <td>90.0</td>\n",
       "    </tr>\n",
       "    <tr>\n",
       "      <th>3</th>\n",
       "      <td>Costco Wholesale</td>\n",
       "      <td>1976</td>\n",
       "      <td>Unknown / Non-Applicable</td>\n",
       "      <td>10000+ Employees</td>\n",
       "      <td>Retail &amp; Wholesale</td>\n",
       "      <td>Data Engineer - Data Science &amp; Analytics</td>\n",
       "      <td>Remote</td>\n",
       "      <td>$100k - $135k</td>\n",
       "      <td>47</td>\n",
       "      <td>100</td>\n",
       "      <td>135</td>\n",
       "      <td>117.5</td>\n",
       "    </tr>\n",
       "    <tr>\n",
       "      <th>4</th>\n",
       "      <td>Anblicks</td>\n",
       "      <td>2004</td>\n",
       "      <td>$5 to $25 million (USD)</td>\n",
       "      <td>201 to 500 Employees</td>\n",
       "      <td>Information Technology</td>\n",
       "      <td>Data Science (AI/ML)</td>\n",
       "      <td>CA</td>\n",
       "      <td>$57k - $90k</td>\n",
       "      <td>19</td>\n",
       "      <td>57</td>\n",
       "      <td>90</td>\n",
       "      <td>73.5</td>\n",
       "    </tr>\n",
       "  </tbody>\n",
       "</table>\n",
       "</div>"
      ],
      "text/plain": [
       "               name  year                           revenue  \\\n",
       "0  Skillquotient     2016  $25 to $100 million (USD)          \n",
       "1  Sephora USA       1969  $1 to $5 billion (USD)             \n",
       "2  REVOLVE           2003  $500 million to $1 billion (USD)   \n",
       "3  Costco Wholesale  1976  Unknown / Non-Applicable           \n",
       "4  Anblicks          2004  $5 to $25 million (USD)            \n",
       "\n",
       "                 employee                  sector  \\\n",
       "0  501 to 1000 Employees   Information Technology   \n",
       "1  10000+ Employees        Retail & Wholesale       \n",
       "2  1001 to 5000 Employees  Retail & Wholesale       \n",
       "3  10000+ Employees        Retail & Wholesale       \n",
       "4  201 to 500 Employees    Information Technology   \n",
       "\n",
       "                                  job_title location      salary_est  age  \\\n",
       "0  Artificial Intelligence- Data Science     Remote   $76k - $179k    7     \n",
       "1  Manager, Data Science Analytics           Remote   $180k - $181k   54    \n",
       "2  Data Science Analyst                       CA      $90k            20    \n",
       "3  Data Engineer - Data Science & Analytics  Remote   $100k - $135k   47    \n",
       "4  Data Science (AI/ML)                       CA      $57k - $90k     19    \n",
       "\n",
       "   min_salary  max_salary  avg_salary  \n",
       "0  76          179         127.5       \n",
       "1  180         181         180.5       \n",
       "2  90          90          90.0        \n",
       "3  100         135         117.5       \n",
       "4  57          90          73.5        "
      ]
     },
     "execution_count": 340,
     "metadata": {},
     "output_type": "execute_result"
    }
   ],
   "source": [
    "df1.head()"
   ]
  },
  {
   "cell_type": "code",
   "execution_count": 341,
   "id": "2c383c8e",
   "metadata": {},
   "outputs": [],
   "source": [
    "df1.to_csv('cleaned_data.csv')"
   ]
  },
  {
   "cell_type": "code",
   "execution_count": null,
   "id": "c1c07bec",
   "metadata": {},
   "outputs": [],
   "source": []
  }
 ],
 "metadata": {
  "kernelspec": {
   "display_name": "Python 3 (ipykernel)",
   "language": "python",
   "name": "python3"
  },
  "language_info": {
   "codemirror_mode": {
    "name": "ipython",
    "version": 3
   },
   "file_extension": ".py",
   "mimetype": "text/x-python",
   "name": "python",
   "nbconvert_exporter": "python",
   "pygments_lexer": "ipython3",
   "version": "3.10.6"
  }
 },
 "nbformat": 4,
 "nbformat_minor": 5
}
